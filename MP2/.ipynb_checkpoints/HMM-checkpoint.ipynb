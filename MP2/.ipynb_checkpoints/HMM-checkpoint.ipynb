{
 "cells": [
  {
   "cell_type": "code",
   "execution_count": 1,
   "metadata": {},
   "outputs": [],
   "source": [
    "import numpy as np\n",
    "import pandas as pd\n",
    "from scipy.stats import multivariate_normal as mvn\n",
    "from matplotlib import pyplot as plt"
   ]
  },
  {
   "cell_type": "code",
   "execution_count": 25,
   "metadata": {},
   "outputs": [],
   "source": [
    "FEA_WP = pd.read_pickle('./work_shared/fea_word_person.pkl')\n",
    "FEA_PW = pd.read_pickle('./work_shared/fea_person_word.pkl')"
   ]
  },
  {
   "cell_type": "code",
   "execution_count": 28,
   "metadata": {
    "scrolled": false
   },
   "outputs": [
    {
     "name": "stdout",
     "output_type": "stream",
     "text": [
      "(169, 14)\n",
      "(112, 14)\n"
     ]
    }
   ],
   "source": [
    "print(FEA_WP['dnn']['ls'][0].shape)\n",
    "print(FEA_PW['dg']['cnn'][0].shape)"
   ]
  },
  {
   "cell_type": "code",
   "execution_count": null,
   "metadata": {},
   "outputs": [],
   "source": [
    "# initialize parameters\n",
    "\n",
    "pi = np.array([1/5] * 5)\n",
    "    \n",
    "A = np.array([[.8, .2,   0,   0,   0],\n",
    "              [0,  .8,  .2,   0,   0],\n",
    "              [0,   0,  .8,  .2,   0],\n",
    "              [0,   0,   0,  .8,  .2],\n",
    "              [0,   0,   0,   0,   1]])\n",
    "\n",
    "mu = np.zeros(14)\n",
    "sigma = np.identity(14)"
   ]
  },
  {
   "cell_type": "code",
   "execution_count": null,
   "metadata": {},
   "outputs": [],
   "source": [
    "def forward(alpha_prev, A, b):\n",
    "    alpha_next = np.zeros((5))\n",
    "    for j in range(5):\n",
    "        for i in range(5):\n",
    "            alpha_next[j] += alpha_prev[i] * A[i][j] * b\n",
    "    g_a = np.sum(alpha_next)\n",
    "    alpha_next = np.divide(alpha_next, g_a)\n",
    "    return alpha_next\n",
    "        \n",
    "def backward(beta_next, A, b):\n",
    "    beta_prev = np.zeros((5))\n",
    "    for i in range(5):\n",
    "        for j in range(5):\n",
    "            beta_prev[i] += beta_next[j] * A[i][j] * b\n",
    "    g_b = np.sum(beta_prev)\n",
    "    beta_prev = np.divide(beta_prev, g_b)\n",
    "    return beta_prev\n",
    "\n",
    "def find_alpha(alpha_0, A, x, mu, sigma):\n",
    "    T = x.shape[0]\n",
    "    alpha = np.zeros((T, 5))\n",
    "    alpha[0] = alpha_0\n",
    "    for t in range(1, T):\n",
    "        b = mvn.pdf(x[t], mu, sigma)\n",
    "        alpha[t] = forward(alpha[t-1], A, b)\n",
    "    return alpha\n",
    "\n",
    "def find_beta(beta_T, A, x, mu, sigma):\n",
    "    T = x.shape[0]\n",
    "    beta = np.zeros((T, 5))\n",
    "    beta[-1] = beta_T\n",
    "    for t in range(T-2, -1, -1):\n",
    "        b = mvn.pdf(x[t+1], mu, sigma)\n",
    "        beta[t] = backward(beta[t+1], A, b)\n",
    "    return beta"
   ]
  },
  {
   "cell_type": "code",
   "execution_count": null,
   "metadata": {},
   "outputs": [],
   "source": [
    "def xi_t(alpha, A, b, beta):\n",
    "    xi_t = np.zeros((5, 5))\n",
    "    for i in range(5):\n",
    "        for j in range(5):\n",
    "            xi_t[i][j] = alpha[i] * A[i][j] * b * beta[j]\n",
    "    norm = np.sum(xi_t)\n",
    "    xi_t = np.divide(xi_t, norm)\n",
    "    return xi_t\n",
    "    \n",
    "def find_xi(alpha, A, x, mu, sigma, beta):\n",
    "    T = x.shape[0]\n",
    "    xi = np.zeros((T, 5, 5))\n",
    "    for t in range(T):       \n",
    "        if t < T-1:\n",
    "            b = mvn.pdf(x[t+1], mu, sigma)\n",
    "            xi[t] = xi_t(alpha[t], A, b, beta[t+1])           \n",
    "        else:\n",
    "            xi[t] = xi_t(alpha[t], A, 1, np.ones((5)))\n",
    "    return xi\n",
    "\n",
    "def find_gamma(xi):\n",
    "    T = xi.shape[0]\n",
    "    gamma = np.zeros((T, 5))\n",
    "    for t in range(T):\n",
    "        for i in range(5):\n",
    "            gamma[t][i] = np.sum(xi[t][i])\n",
    "    return gamma"
   ]
  },
  {
   "cell_type": "code",
   "execution_count": null,
   "metadata": {},
   "outputs": [],
   "source": [
    "def update_mu(x, gamma):\n",
    "    T = x.shape[0]\n",
    "    new_mu = np.zeros((5, 14))\n",
    "    denom = np.sum(gamma)\n",
    "    for i in range(5):\n",
    "        num = np.zeros((1,14))\n",
    "        for t in range(T):\n",
    "            num += np.multiply(x[t], gamma[t][i])\n",
    "        new_mu[i] = np.divide(num, denom)\n",
    "    return new_mu\n",
    "\n",
    "def update_sigma(x, gamma, mu):\n",
    "    T = x.shape[0]\n",
    "    new_gamma = np.zeros((5, 14, 14))\n",
    "    denom = np.sum(gamma)\n",
    "    for i in range(5):\n",
    "        num = np.zeros((14,14))\n",
    "        for t in range(T):\n",
    "            std = np.subtract(x[t], mu[i])\n",
    "            num += np.multiply(np.multiply(gamma[t][i], np.transpose(std)), std)\n",
    "        new_gamma[i] = np.divide(num, denom)\n",
    "    return new_gamma"
   ]
  },
  {
   "cell_type": "code",
   "execution_count": null,
   "metadata": {},
   "outputs": [],
   "source": [
    "alpha0 = np.multiply(pi, mvn.pdf(x0[0], mu, sigma))\n",
    "alpha = find_alpha(alpha0, A, x0, mu, sigma)"
   ]
  }
 ],
 "metadata": {
  "kernelspec": {
   "display_name": "Python 3",
   "language": "python",
   "name": "python3"
  },
  "language_info": {
   "codemirror_mode": {
    "name": "ipython",
    "version": 3
   },
   "file_extension": ".py",
   "mimetype": "text/x-python",
   "name": "python",
   "nbconvert_exporter": "python",
   "pygments_lexer": "ipython3",
   "version": "3.6.6"
  }
 },
 "nbformat": 4,
 "nbformat_minor": 2
}
